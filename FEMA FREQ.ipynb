{
 "cells": [
  {
   "cell_type": "code",
   "execution_count": 1,
   "metadata": {},
   "outputs": [
    {
     "name": "stdout",
     "output_type": "stream",
     "text": [
      "C:\\Users\\Tonyryanworldwide\\Untitled Folder\\fema\n"
     ]
    }
   ],
   "source": [
    "import os\n",
    "\n",
    "path = 'C:/Users/Tonyryanworldwide/Untitled Folder/fema'\n",
    "os.chdir(path)\n",
    "cwd = os.getcwd()\n",
    "print(cwd)"
   ]
  },
  {
   "cell_type": "code",
   "execution_count": 2,
   "metadata": {},
   "outputs": [],
   "source": [
    "import requests\n",
    "import urllib\n",
    "from urllib import *\n",
    "import pandas as pd\n",
    "req = requests.get(\"https://www.fema.gov/MEDIA-LIBRARY/ASSETS/documents/132213\")\n",
    "req_text = req.text\n",
    "start = req_text.find('https://www.fema.gov/media-library-data')\n",
    "end = req_text.find('xlsx', start)\n",
    "file = req_text[start:end + 4]\n",
    "FEMA = pd.read_excel(file, sheet_name = 2, header = 2, convert_float = True)\n",
    "FEMA = FEMA.dropna()\n",
    "FEMA = FEMA[FEMA['Zip'] != 0.0]\n",
    "FEMA['Zip'] = FEMA['Zip'].astype(int)\n",
    "FEMA['Zip'] = FEMA['Zip'].apply(str)\n",
    "FEMA['Zip'] = FEMA['Zip'].apply(lambda x: x.zfill(5))\n",
    "\n",
    "\n"
   ]
  },
  {
   "cell_type": "code",
   "execution_count": 3,
   "metadata": {},
   "outputs": [],
   "source": [
    "excel_file = 'FEMA.xlsx'\n",
    "writer = pd.ExcelWriter(excel_file)\n",
    "FEMA.to_excel(writer, sheet_name = 'FEMA')\n",
    "HouseHolds = pd.read_csv('Census_Pop_Housholds_By_ZCSTA.csv')\n",
    "HouseHolds.to_excel(writer, sheet_name = 'Census Data')\n",
    "FEMA_GROUP = FEMA.groupby(['Disaster Number' , 'Zip' , 'State'] , as_index = False).agg({'Home Damage' :'sum'})\n",
    "HouseHolds['name'][0][-5:]\n",
    "HouseHolds['ZIP'] = HouseHolds['name'].apply(lambda x: [x][0][-5:])\n",
    "Final = HouseHolds.merge(FEMA_GROUP, how = 'inner', left_on = 'ZIP', right_on = 'Zip')[['Zip','Total Pop', 'arealand',  'Housing Unit Count' ,  'Disaster Number' , 'State', 'Home Damage']]\n",
    "Final['Freq_Ratio'] = Final['Home Damage'] / Final['Housing Unit Count']\n",
    "Final_By_Disaster = Final[['Disaster Number', 'Housing Unit Count' , 'Home Damage', 'Total Pop']].groupby('Disaster Number', as_index = False).sum()\n",
    "Final_By_Disaster['Dis_Freq'] = Final_By_Disaster['Home Damage'] / Final_By_Disaster['Housing Unit Count']\n",
    "Final_By_Disaster['Pop_Freq'] = Final_By_Disaster['Home Damage'] / Final_By_Disaster['Total Pop']\n",
    "Final.to_excel(writer, sheet_name = 'Frequency_Ratio')\n",
    "Final_By_Disaster.to_excel(writer, sheet_name = 'Disaster Ratios')\n",
    "workbook  = writer.book\n",
    "worksheet = writer.sheets['FEMA']\n",
    "worksheet.set_column('B:Z', 20)\n",
    "worksheet = writer.sheets['Frequency_Ratio']\n",
    "worksheet.set_column('B:Z', 20)\n",
    "worksheet = writer.sheets['Disaster Ratios']\n",
    "worksheet.set_column('B:Z', 20)\n",
    "writer.save()\n",
    "writer.close()\n",
    "\n",
    "\n"
   ]
  },
  {
   "cell_type": "code",
   "execution_count": 125,
   "metadata": {},
   "outputs": [
    {
     "data": {
      "text/plain": [
       "(221, b'2.0.0 closing connection w189-v6sm3200221itb.40 - gsmtp')"
      ]
     },
     "execution_count": 125,
     "metadata": {},
     "output_type": "execute_result"
    }
   ],
   "source": [
    "import smtplib,ssl\n",
    "from smtplib import SMTP_SSL as SMTP \n",
    "from email.mime.multipart import MIMEMultipart\n",
    "from email.mime.base import MIMEBase\n",
    "from email.mime.text import MIMEText\n",
    "from email.utils import formatdate\n",
    "from email import encoders\n",
    "\n",
    "file = 'C:/Users/Tonyryanworldwide/Untitled Folder/fema/FEMA.xlsx'\n",
    "username='tonyryanworldwide@gmail.com'\n",
    "password='COLLECTORGOD@13'\n",
    "send_from = 'Tonyryanworldwide@gmail.com'\n",
    "send_to = 'Anthony.J.Ryan86@gmail.com, Tonyryanworldwide@gmail.com'\n",
    "Cc = 'TonyRyanworldwide@gmail.com'\n",
    "msg = MIMEMultipart()\n",
    "msg['From'] = send_from\n",
    "msg['To'] = send_to\n",
    "msg['Cc'] = Cc\n",
    "msg['Date'] = formatdate(localtime = True)\n",
    "msg['Subject'] = 'FEMA FREQ'\n",
    "server = smtplib.SMTP('smtp.gmail.com')\n",
    "port = '587'\n",
    "fp = open(file, 'rb')\n",
    "part = MIMEBase('application','vnd.ms-excel')\n",
    "part.set_payload(fp.read())\n",
    "fp.close()\n",
    "encoders.encode_base64(part)\n",
    "part.add_header('Content-Disposition', 'attachment', filename='FEMA FREQ')\n",
    "msg.attach(part)\n",
    "smtp = smtplib.SMTP('smtp.gmail.com')\n",
    "smtp.ehlo()\n",
    "smtp.starttls()\n",
    "smtp.login(username,password)\n",
    "smtp.sendmail(send_from, send_to.split(',') + msg['Cc'].split(','), msg.as_string())\n",
    "smtp.quit()\n"
   ]
  },
  {
   "cell_type": "code",
   "execution_count": null,
   "metadata": {},
   "outputs": [],
   "source": [
    "msg[\"To\"] = \"malcom@example.com,reynolds@example.com,firefly@example.com\"\n",
    "msg[\"Cc\"] = \"serenity@example.com,inara@example.com\"\n",
    "body = MIMEText(\"example email body\")\n",
    "msg.attach(body)\n",
    "smtp = smtplib.SMTP(\"mailhost.example.com\", 25)\n",
    "smtp.sendmail(msg[\"From\"], msg[\"To\"].split(\",\") + msg[\"Cc\"].split(\",\"), msg.as_string())\n",
    "smtp.quit()"
   ]
  },
  {
   "cell_type": "code",
   "execution_count": null,
   "metadata": {},
   "outputs": [],
   "source": [
    "\n",
    "%history"
   ]
  },
  {
   "cell_type": "code",
   "execution_count": 4,
   "metadata": {},
   "outputs": [],
   "source": [
    "path = 'C:/Users/Tonyryanworldwide/Untitled Folder/FEMA'\n",
    "os.chdir(path)\n",
    "cwd = os.getcwd()\n",
    "%run FEMA2"
   ]
  }
 ],
 "metadata": {
  "kernelspec": {
   "display_name": "Python 3",
   "language": "python",
   "name": "python3"
  },
  "language_info": {
   "codemirror_mode": {
    "name": "ipython",
    "version": 3
   },
   "file_extension": ".py",
   "mimetype": "text/x-python",
   "name": "python",
   "nbconvert_exporter": "python",
   "pygments_lexer": "ipython3",
   "version": "3.6.5"
  }
 },
 "nbformat": 4,
 "nbformat_minor": 2
}
